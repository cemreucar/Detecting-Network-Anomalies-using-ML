{
  "nbformat": 4,
  "nbformat_minor": 0,
  "metadata": {
    "colab": {
      "provenance": []
    },
    "kernelspec": {
      "name": "python3",
      "display_name": "Python 3"
    },
    "language_info": {
      "name": "python"
    }
  },
  "cells": [
    {
      "cell_type": "code",
      "metadata": {
        "id": "OqblfyiOsa03"
      },
      "source": [
        "import numpy as np"
      ],
      "execution_count": 1,
      "outputs": []
    },
    {
      "cell_type": "code",
      "metadata": {
        "id": "RCtgADNqtaVd"
      },
      "source": [
        "import pandas as pd\n",
        "from sklearn.linear_model import *\n",
        "from sklearn.tree import *\n",
        "from sklearn.naive_bayes import *\n",
        "from sklearn.neighbors import *\n",
        "from sklearn.metrics import accuracy_score\n",
        "from sklearn.model_selection import train_test_split\n",
        "import matplotlib.pyplot as plt\n",
        "%matplotlib inline"
      ],
      "execution_count": null,
      "outputs": []
    },
    {
      "cell_type": "code",
      "metadata": {
        "colab": {
          "base_uri": "https://localhost:8080/"
        },
        "id": "yYGTFQvkt-K-",
        "outputId": "e9cb40ec-7e15-40db-a483-299e4d8aa823"
      },
      "source": [
        "from google.colab import drive\n",
        "drive.mount('/content/drive')"
      ],
      "execution_count": null,
      "outputs": [
        {
          "output_type": "stream",
          "text": [
            "Mounted at /content/drive\n"
          ],
          "name": "stdout"
        }
      ]
    },
    {
      "cell_type": "code",
      "metadata": {
        "colab": {
          "base_uri": "https://localhost:8080/"
        },
        "id": "umW3K793t_yK",
        "outputId": "051302da-808e-4217-9c52-0f6880c54f3c"
      },
      "source": [
        "%cd /content/drive/My Drive/Colab Notebooks"
      ],
      "execution_count": null,
      "outputs": [
        {
          "output_type": "stream",
          "text": [
            "/content/drive/My Drive/Colab Notebooks\n"
          ],
          "name": "stdout"
        }
      ]
    },
    {
      "cell_type": "code",
      "metadata": {
        "id": "qg6BvpkHt2if"
      },
      "source": [
        "# Load the dataset\n",
        "new_dataset = pd.read_csv('datasets2/network-logs.csv')\n",
        "\n",
        "# Extract features (samples) and target variable (targets)\n",
        "new_samples = new_dataset.iloc[:, [1, 2]].values\n",
        "new_targets = new_dataset['ANOMALY'].values\n",
        "\n",
        "# Split the dataset into training and testing sets\n",
        "new_training_samples, new_testing_samples, new_training_targets, new_testing_targets = train_test_split(\n",
        "    new_samples, new_targets, test_size=0.3, random_state=0)"
      ],
      "execution_count": null,
      "outputs": []
    },
    {
      "cell_type": "code",
      "metadata": {
        "colab": {
          "base_uri": "https://localhost:8080/"
        },
        "id": "qOBEmoQuuohe",
        "outputId": "4dc3954f-2346-4b38-f2e2-14ccd7ab6c6a"
      },
      "source": [
        "# K-Nearest Neighbors model\n",
        "new_knc = KNeighborsClassifier(n_neighbors=2)\n",
        "new_knc.fit(new_training_samples, new_training_targets)\n",
        "new_knc_prediction = new_knc.predict(new_testing_samples)\n",
        "new_knc_accuracy = 100.0 * accuracy_score(new_testing_targets, new_knc_prediction)\n",
        "print(\"New K-Nearest Neighbours accuracy: \" + str(new_knc_accuracy))\n"
      ],
      "execution_count": null,
      "outputs": [
        {
          "output_type": "stream",
          "text": [
            "K-Nearest Neighbours accuracy: 95.90163934426229\n"
          ],
          "name": "stdout"
        }
      ]
    },
    {
      "cell_type": "code",
      "metadata": {
        "colab": {
          "base_uri": "https://localhost:8080/"
        },
        "id": "40I7cKhEvJ5i",
        "outputId": "bf6f93c6-b3ee-467f-c6f0-41fc47dc9cbd"
      },
      "source": [
        "# Decision Tree model\n",
        "new_dtc = DecisionTreeClassifier(random_state=0)\n",
        "new_dtc.fit(new_training_samples, new_training_targets)\n",
        "new_dtc_prediction = new_dtc.predict(new_testing_samples)\n",
        "new_dtc_accuracy = 100.0 * accuracy_score(new_testing_targets, new_dtc_prediction)\n",
        "print(\"New Decision Tree Accuracy: \" + str(new_dtc_accuracy))"
      ],
      "execution_count": null,
      "outputs": [
        {
          "output_type": "stream",
          "text": [
            "Decision Tree Accuracy: 96.72131147540983\n"
          ],
          "name": "stdout"
        }
      ]
    },
    {
      "cell_type": "code",
      "metadata": {
        "colab": {
          "base_uri": "https://localhost:8080/"
        },
        "id": "_VSTLGPCvrla",
        "outputId": "fd0bb5c4-e8e4-42f2-b5c3-5541e64a31f4"
      },
      "source": [
        "# Gaussian Naive Bayes Model\n",
        "new_gnb = GaussianNB()\n",
        "new_gnb.fit(new_training_samples, new_training_targets)\n",
        "new_gnb_prediction = new_gnb.predict(new_testing_samples)\n",
        "new_gnb_accuracy = 100.0 * accuracy_score(new_testing_targets, new_gnb_prediction)\n",
        "print(\"New Gaussian Naive Bayes accuracy: \" + str(new_gnb_accuracy))"
      ],
      "execution_count": null,
      "outputs": [
        {
          "output_type": "stream",
          "text": [
            "Gaussian Naive Bayes accuracy: 99.14754098360655\n"
          ],
          "name": "stdout"
        }
      ]
    }
  ]
}